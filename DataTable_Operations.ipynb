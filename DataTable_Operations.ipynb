{
 "cells": [
  {
   "cell_type": "code",
   "execution_count": 63,
   "metadata": {
    "collapsed": true,
    "pycharm": {
     "is_executing": false
    }
   },
   "outputs": [],
   "source": [
    "import pandas as pd \n",
    "import seaborn as sns #visualisation"
   ]
  },
  {
   "cell_type": "code",
   "execution_count": 58,
   "outputs": [
    {
     "data": {
      "text/plain": "    Make           Model   Type Origin DriveTrain     MSRP  Invoice  \\\n0  Acura             MDX    SUV   Asia        All  $36,945  $33,337   \n1  Acura  RSX Type S 2dr  Sedan   Asia      Front  $23,820  $21,761   \n2  Acura         TSX 4dr  Sedan   Asia      Front  $26,990  $24,647   \n3  Acura          TL 4dr  Sedan   Asia      Front  $33,195  $30,299   \n4  Acura      3.5 RL 4dr  Sedan   Asia      Front  $43,755  $39,014   \n\n   EngineSize  Cylinders  Horsepower  MPG_City  MPG_Highway  Weight  \\\n0         3.5        6.0         265        17           23    4451   \n1         2.0        4.0         200        24           31    2778   \n2         2.4        4.0         200        22           29    3230   \n3         3.2        6.0         270        20           28    3575   \n4         3.5        6.0         225        18           24    3880   \n\n   Wheelbase  Length  \n0        106     189  \n1        101     172  \n2        105     183  \n3        108     186  \n4        115     197  ",
      "text/html": "<div>\n<style scoped>\n    .dataframe tbody tr th:only-of-type {\n        vertical-align: middle;\n    }\n\n    .dataframe tbody tr th {\n        vertical-align: top;\n    }\n\n    .dataframe thead th {\n        text-align: right;\n    }\n</style>\n<table border=\"1\" class=\"dataframe\">\n  <thead>\n    <tr style=\"text-align: right;\">\n      <th></th>\n      <th>Make</th>\n      <th>Model</th>\n      <th>Type</th>\n      <th>Origin</th>\n      <th>DriveTrain</th>\n      <th>MSRP</th>\n      <th>Invoice</th>\n      <th>EngineSize</th>\n      <th>Cylinders</th>\n      <th>Horsepower</th>\n      <th>MPG_City</th>\n      <th>MPG_Highway</th>\n      <th>Weight</th>\n      <th>Wheelbase</th>\n      <th>Length</th>\n    </tr>\n  </thead>\n  <tbody>\n    <tr>\n      <th>0</th>\n      <td>Acura</td>\n      <td>MDX</td>\n      <td>SUV</td>\n      <td>Asia</td>\n      <td>All</td>\n      <td>$36,945</td>\n      <td>$33,337</td>\n      <td>3.5</td>\n      <td>6.0</td>\n      <td>265</td>\n      <td>17</td>\n      <td>23</td>\n      <td>4451</td>\n      <td>106</td>\n      <td>189</td>\n    </tr>\n    <tr>\n      <th>1</th>\n      <td>Acura</td>\n      <td>RSX Type S 2dr</td>\n      <td>Sedan</td>\n      <td>Asia</td>\n      <td>Front</td>\n      <td>$23,820</td>\n      <td>$21,761</td>\n      <td>2.0</td>\n      <td>4.0</td>\n      <td>200</td>\n      <td>24</td>\n      <td>31</td>\n      <td>2778</td>\n      <td>101</td>\n      <td>172</td>\n    </tr>\n    <tr>\n      <th>2</th>\n      <td>Acura</td>\n      <td>TSX 4dr</td>\n      <td>Sedan</td>\n      <td>Asia</td>\n      <td>Front</td>\n      <td>$26,990</td>\n      <td>$24,647</td>\n      <td>2.4</td>\n      <td>4.0</td>\n      <td>200</td>\n      <td>22</td>\n      <td>29</td>\n      <td>3230</td>\n      <td>105</td>\n      <td>183</td>\n    </tr>\n    <tr>\n      <th>3</th>\n      <td>Acura</td>\n      <td>TL 4dr</td>\n      <td>Sedan</td>\n      <td>Asia</td>\n      <td>Front</td>\n      <td>$33,195</td>\n      <td>$30,299</td>\n      <td>3.2</td>\n      <td>6.0</td>\n      <td>270</td>\n      <td>20</td>\n      <td>28</td>\n      <td>3575</td>\n      <td>108</td>\n      <td>186</td>\n    </tr>\n    <tr>\n      <th>4</th>\n      <td>Acura</td>\n      <td>3.5 RL 4dr</td>\n      <td>Sedan</td>\n      <td>Asia</td>\n      <td>Front</td>\n      <td>$43,755</td>\n      <td>$39,014</td>\n      <td>3.5</td>\n      <td>6.0</td>\n      <td>225</td>\n      <td>18</td>\n      <td>24</td>\n      <td>3880</td>\n      <td>115</td>\n      <td>197</td>\n    </tr>\n  </tbody>\n</table>\n</div>"
     },
     "metadata": {},
     "output_type": "execute_result",
     "execution_count": 58
    }
   ],
   "source": [
    "#Loading the CSV file into a pandas dataframe.\n",
    "df = pd.read_csv('CARS.csv')\n",
    "df.head(5)\n"
   ],
   "metadata": {
    "collapsed": false,
    "pycharm": {
     "name": "#%% \n",
     "is_executing": false
    }
   }
  },
  {
   "cell_type": "code",
   "execution_count": 23,
   "outputs": [
    {
     "data": {
      "text/plain": "(428, 15)"
     },
     "metadata": {},
     "output_type": "execute_result",
     "execution_count": 23
    }
   ],
   "source": [
    "#Getting the number of instances and feature\n",
    "df.shape"
   ],
   "metadata": {
    "collapsed": false,
    "pycharm": {
     "name": "#%% \n",
     "is_executing": false
    }
   }
  },
  {
   "cell_type": "code",
   "execution_count": 24,
   "outputs": [
    {
     "data": {
      "text/plain": "2"
     },
     "metadata": {},
     "output_type": "execute_result",
     "execution_count": 24
    }
   ],
   "source": [
    "#Getting the dimensions of the data frame\n",
    "df.ndim"
   ],
   "metadata": {
    "collapsed": false,
    "pycharm": {
     "name": "#%% \n",
     "is_executing": false
    }
   }
  },
  {
   "cell_type": "code",
   "execution_count": 25,
   "outputs": [
    {
     "name": "stdout",
     "text": [
      "<class 'pandas.core.frame.DataFrame'>\n",
      "RangeIndex: 428 entries, 0 to 427\n",
      "Data columns (total 15 columns):\n",
      " #   Column       Non-Null Count  Dtype  \n",
      "---  ------       --------------  -----  \n",
      " 0   Make         428 non-null    object \n",
      " 1   Model        428 non-null    object \n",
      " 2   Type         428 non-null    object \n",
      " 3   Origin       428 non-null    object \n",
      " 4   DriveTrain   428 non-null    object \n",
      " 5   MSRP         428 non-null    object \n",
      " 6   Invoice      428 non-null    object \n",
      " 7   EngineSize   428 non-null    float64\n",
      " 8   Cylinders    426 non-null    float64\n",
      " 9   Horsepower   428 non-null    int64  \n",
      " 10  MPG_City     428 non-null    int64  \n",
      " 11  MPG_Highway  428 non-null    int64  \n",
      " 12  Weight       428 non-null    int64  \n",
      " 13  Wheelbase    428 non-null    int64  \n",
      " 14  Length       428 non-null    int64  \n",
      "dtypes: float64(2), int64(6), object(7)\n",
      "memory usage: 50.3+ KB\n"
     ],
     "output_type": "stream"
    }
   ],
   "source": [
    "#To identify the type of data\n",
    "df.info()"
   ],
   "metadata": {
    "collapsed": false,
    "pycharm": {
     "name": "#%% \n",
     "is_executing": false
    }
   }
  },
  {
   "cell_type": "code",
   "execution_count": 26,
   "outputs": [
    {
     "data": {
      "text/plain": "Make           428\nModel          428\nType           428\nOrigin         428\nDriveTrain     428\nMSRP           428\nInvoice        428\nEngineSize     428\nCylinders      426\nHorsepower     428\nMPG_City       428\nMPG_Highway    428\nWeight         428\nWheelbase      428\nLength         428\ndtype: int64"
     },
     "metadata": {},
     "output_type": "execute_result",
     "execution_count": 26
    }
   ],
   "source": [
    "#count non-Null values in each colummn\n",
    "df.count()"
   ],
   "metadata": {
    "collapsed": false,
    "pycharm": {
     "name": "#%% \n",
     "is_executing": false
    }
   }
  },
  {
   "cell_type": "code",
   "execution_count": 27,
   "outputs": [
    {
     "name": "stdout",
     "text": [
      "Make           0\n",
      "Model          0\n",
      "Type           0\n",
      "Origin         0\n",
      "DriveTrain     0\n",
      "MSRP           0\n",
      "Invoice        0\n",
      "EngineSize     0\n",
      "Cylinders      2\n",
      "Horsepower     0\n",
      "MPG_City       0\n",
      "MPG_Highway    0\n",
      "Weight         0\n",
      "Wheelbase      0\n",
      "Length         0\n",
      "dtype: int64\n"
     ],
     "output_type": "stream"
    }
   ],
   "source": [
    "#Finding the null values\n",
    "print(df.isnull().sum())"
   ],
   "metadata": {
    "collapsed": false,
    "pycharm": {
     "name": "#%% \n",
     "is_executing": false
    }
   }
  },
  {
   "cell_type": "code",
   "execution_count": 36,
   "outputs": [
    {
     "data": {
      "text/plain": "      Make               Model    Type Origin DriveTrain     MSRP  Invoice  \\\n247  Mazda  RX-8 4dr automatic  Sports   Asia       Rear  $25,700  $23,794   \n248  Mazda     RX-8 4dr manual  Sports   Asia       Rear  $27,200  $25,179   \n\n     EngineSize  Cylinders  Horsepower  MPG_City  MPG_Highway  Weight  \\\n247         1.3        NaN         197        18           25    3053   \n248         1.3        NaN         238        18           24    3029   \n\n     Wheelbase  Length  \n247        106     174  \n248        106     174  ",
      "text/html": "<div>\n<style scoped>\n    .dataframe tbody tr th:only-of-type {\n        vertical-align: middle;\n    }\n\n    .dataframe tbody tr th {\n        vertical-align: top;\n    }\n\n    .dataframe thead th {\n        text-align: right;\n    }\n</style>\n<table border=\"1\" class=\"dataframe\">\n  <thead>\n    <tr style=\"text-align: right;\">\n      <th></th>\n      <th>Make</th>\n      <th>Model</th>\n      <th>Type</th>\n      <th>Origin</th>\n      <th>DriveTrain</th>\n      <th>MSRP</th>\n      <th>Invoice</th>\n      <th>EngineSize</th>\n      <th>Cylinders</th>\n      <th>Horsepower</th>\n      <th>MPG_City</th>\n      <th>MPG_Highway</th>\n      <th>Weight</th>\n      <th>Wheelbase</th>\n      <th>Length</th>\n    </tr>\n  </thead>\n  <tbody>\n    <tr>\n      <th>247</th>\n      <td>Mazda</td>\n      <td>RX-8 4dr automatic</td>\n      <td>Sports</td>\n      <td>Asia</td>\n      <td>Rear</td>\n      <td>$25,700</td>\n      <td>$23,794</td>\n      <td>1.3</td>\n      <td>NaN</td>\n      <td>197</td>\n      <td>18</td>\n      <td>25</td>\n      <td>3053</td>\n      <td>106</td>\n      <td>174</td>\n    </tr>\n    <tr>\n      <th>248</th>\n      <td>Mazda</td>\n      <td>RX-8 4dr manual</td>\n      <td>Sports</td>\n      <td>Asia</td>\n      <td>Rear</td>\n      <td>$27,200</td>\n      <td>$25,179</td>\n      <td>1.3</td>\n      <td>NaN</td>\n      <td>238</td>\n      <td>18</td>\n      <td>24</td>\n      <td>3029</td>\n      <td>106</td>\n      <td>174</td>\n    </tr>\n  </tbody>\n</table>\n</div>"
     },
     "metadata": {},
     "output_type": "execute_result",
     "execution_count": 36
    }
   ],
   "source": [
    "#Printing the null value rows\n",
    "df[pd.isnull(df).any(axis=1)]"
   ],
   "metadata": {
    "collapsed": false,
    "pycharm": {
     "name": "#%% \n",
     "is_executing": false
    }
   }
  },
  {
   "cell_type": "code",
   "execution_count": 41,
   "outputs": [
    {
     "name": "stdout",
     "text": [
      "Make           0\n",
      "Model          0\n",
      "Type           0\n",
      "Origin         0\n",
      "DriveTrain     0\n",
      "MSRP           0\n",
      "Invoice        0\n",
      "EngineSize     0\n",
      "Cylinders      0\n",
      "Horsepower     0\n",
      "MPG_City       0\n",
      "MPG_Highway    0\n",
      "Weight         0\n",
      "Wheelbase      0\n",
      "Length         0\n",
      "dtype: int64\n"
     ],
     "output_type": "stream"
    },
    {
     "name": "stderr",
     "text": [
      "/home/chinthaka/PycharmProjects/DataScience_ProjectSamples/venv/lib/python3.6/site-packages/ipykernel_launcher.py:2: SettingWithCopyWarning: \n",
      "A value is trying to be set on a copy of a slice from a DataFrame\n",
      "\n",
      "See the caveats in the documentation: https://pandas.pydata.org/pandas-docs/stable/user_guide/indexing.html#returning-a-view-versus-a-copy\n",
      "  \n",
      "/home/chinthaka/PycharmProjects/DataScience_ProjectSamples/venv/lib/python3.6/site-packages/ipykernel_launcher.py:4: SettingWithCopyWarning: \n",
      "A value is trying to be set on a copy of a slice from a DataFrame\n",
      "\n",
      "See the caveats in the documentation: https://pandas.pydata.org/pandas-docs/stable/user_guide/indexing.html#returning-a-view-versus-a-copy\n",
      "  after removing the cwd from sys.path.\n"
     ],
     "output_type": "stream"
    }
   ],
   "source": [
    "#Filling the rows with the mean of the column\n",
    "val = df['Cylinders'].mean()\n",
    "df['Cylinders'][247] = round(val)\n",
    "val = df['Cylinders'].mean()\n",
    "df['Cylinders'][248]= round(val)\n",
    "\n",
    "print(df.isnull().sum())"
   ],
   "metadata": {
    "collapsed": false,
    "pycharm": {
     "name": "#%% \n",
     "is_executing": false
    }
   }
  },
  {
   "cell_type": "code",
   "execution_count": 42,
   "outputs": [
    {
     "data": {
      "text/plain": "Make           410\nModel          410\nType           410\nOrigin         410\nDriveTrain     410\nMSRP           410\nInvoice        410\nEngineSize     410\nCylinders      410\nHorsepower     410\nMPG_City       410\nMPG_Highway    410\nWeight         410\nWheelbase      410\nLength         410\ndtype: int64"
     },
     "metadata": {},
     "output_type": "execute_result",
     "execution_count": 42
    }
   ],
   "source": [
    "#remove redundunt data using the MSRP as a reference such that there cannot be more than two same MSRP prices of the car\n",
    "df = df.drop_duplicates(subset= 'MSRP', keep='first')\n",
    "df.count()"
   ],
   "metadata": {
    "collapsed": false,
    "pycharm": {
     "name": "#%% \n",
     "is_executing": false
    }
   }
  },
  {
   "cell_type": "code",
   "execution_count": 59,
   "outputs": [
    {
     "name": "stdout",
     "text": [
      " $36,945\n",
      " $23,820\n",
      " $26,990\n",
      " 36945\n",
      " 23820\n",
      " 26990\n"
     ],
     "output_type": "stream"
    }
   ],
   "source": [
    "#Converting the object values to an integer type\n",
    "# Removing the formatting\n",
    "print(df.head(3).MSRP.to_string(index=False))\n",
    "\n",
    "df['MSRP'] = [x.replace('$', '') for x in df['MSRP']] \n",
    "df['MSRP'] = [x.replace(',', '') for x in df['MSRP']]\n",
    "df['MSRP']=pd.to_numeric(df['MSRP'],errors='coerce')\n",
    "\n",
    "print(df.head(3).MSRP.to_string(index=False))"
   ],
   "metadata": {
    "collapsed": false,
    "pycharm": {
     "name": "#%% \n",
     "is_executing": false
    }
   }
  },
  {
   "cell_type": "code",
   "execution_count": 60,
   "outputs": [
    {
     "data": {
      "text/plain": "    Make   MSRP  EngineSize  Cylinders  Horsepower  MPG_City  MPG_Highway  \\\n0  Acura  36945         3.5        6.0         265        17           23   \n1  Acura  23820         2.0        4.0         200        24           31   \n2  Acura  26990         2.4        4.0         200        22           29   \n3  Acura  33195         3.2        6.0         270        20           28   \n4  Acura  43755         3.5        6.0         225        18           24   \n\n   Weight  Wheelbase  Length  \n0    4451        106     189  \n1    2778        101     172  \n2    3230        105     183  \n3    3575        108     186  \n4    3880        115     197  ",
      "text/html": "<div>\n<style scoped>\n    .dataframe tbody tr th:only-of-type {\n        vertical-align: middle;\n    }\n\n    .dataframe tbody tr th {\n        vertical-align: top;\n    }\n\n    .dataframe thead th {\n        text-align: right;\n    }\n</style>\n<table border=\"1\" class=\"dataframe\">\n  <thead>\n    <tr style=\"text-align: right;\">\n      <th></th>\n      <th>Make</th>\n      <th>MSRP</th>\n      <th>EngineSize</th>\n      <th>Cylinders</th>\n      <th>Horsepower</th>\n      <th>MPG_City</th>\n      <th>MPG_Highway</th>\n      <th>Weight</th>\n      <th>Wheelbase</th>\n      <th>Length</th>\n    </tr>\n  </thead>\n  <tbody>\n    <tr>\n      <th>0</th>\n      <td>Acura</td>\n      <td>36945</td>\n      <td>3.5</td>\n      <td>6.0</td>\n      <td>265</td>\n      <td>17</td>\n      <td>23</td>\n      <td>4451</td>\n      <td>106</td>\n      <td>189</td>\n    </tr>\n    <tr>\n      <th>1</th>\n      <td>Acura</td>\n      <td>23820</td>\n      <td>2.0</td>\n      <td>4.0</td>\n      <td>200</td>\n      <td>24</td>\n      <td>31</td>\n      <td>2778</td>\n      <td>101</td>\n      <td>172</td>\n    </tr>\n    <tr>\n      <th>2</th>\n      <td>Acura</td>\n      <td>26990</td>\n      <td>2.4</td>\n      <td>4.0</td>\n      <td>200</td>\n      <td>22</td>\n      <td>29</td>\n      <td>3230</td>\n      <td>105</td>\n      <td>183</td>\n    </tr>\n    <tr>\n      <th>3</th>\n      <td>Acura</td>\n      <td>33195</td>\n      <td>3.2</td>\n      <td>6.0</td>\n      <td>270</td>\n      <td>20</td>\n      <td>28</td>\n      <td>3575</td>\n      <td>108</td>\n      <td>186</td>\n    </tr>\n    <tr>\n      <th>4</th>\n      <td>Acura</td>\n      <td>43755</td>\n      <td>3.5</td>\n      <td>6.0</td>\n      <td>225</td>\n      <td>18</td>\n      <td>24</td>\n      <td>3880</td>\n      <td>115</td>\n      <td>197</td>\n    </tr>\n  </tbody>\n</table>\n</div>"
     },
     "metadata": {},
     "output_type": "execute_result",
     "execution_count": 60
    }
   ],
   "source": [
    "#Removing irrelevant features\n",
    "df = df.drop(['Model','DriveTrain','Invoice', 'Origin', 'Type'], axis=1)\n",
    "df.head(5)\n"
   ],
   "metadata": {
    "collapsed": false,
    "pycharm": {
     "name": "#%% \n",
     "is_executing": false
    }
   }
  },
  {
   "cell_type": "code",
   "execution_count": 61,
   "outputs": [
    {
     "data": {
      "text/plain": "                MSRP  EngineSize   Cylinders  Horsepower    MPG_City  \\\ncount     428.000000  428.000000  426.000000  428.000000  428.000000   \nmean    32774.855140    3.196729    5.807512  215.885514   20.060748   \nstd     19431.716674    1.108595    1.558443   71.836032    5.238218   \nmin     10280.000000    1.300000    3.000000   73.000000   10.000000   \n25%     20334.250000    2.375000    4.000000  165.000000   17.000000   \n50%     27635.000000    3.000000    6.000000  210.000000   19.000000   \n75%     39205.000000    3.900000    6.000000  255.000000   21.250000   \nmax    192465.000000    8.300000   12.000000  500.000000   60.000000   \n\n       MPG_Highway       Weight   Wheelbase      Length  \ncount   428.000000   428.000000  428.000000  428.000000  \nmean     26.843458  3577.953271  108.154206  186.362150  \nstd       5.741201   758.983215    8.311813   14.357991  \nmin      12.000000  1850.000000   89.000000  143.000000  \n25%      24.000000  3104.000000  103.000000  178.000000  \n50%      26.000000  3474.500000  107.000000  187.000000  \n75%      29.000000  3977.750000  112.000000  194.000000  \nmax      66.000000  7190.000000  144.000000  238.000000  ",
      "text/html": "<div>\n<style scoped>\n    .dataframe tbody tr th:only-of-type {\n        vertical-align: middle;\n    }\n\n    .dataframe tbody tr th {\n        vertical-align: top;\n    }\n\n    .dataframe thead th {\n        text-align: right;\n    }\n</style>\n<table border=\"1\" class=\"dataframe\">\n  <thead>\n    <tr style=\"text-align: right;\">\n      <th></th>\n      <th>MSRP</th>\n      <th>EngineSize</th>\n      <th>Cylinders</th>\n      <th>Horsepower</th>\n      <th>MPG_City</th>\n      <th>MPG_Highway</th>\n      <th>Weight</th>\n      <th>Wheelbase</th>\n      <th>Length</th>\n    </tr>\n  </thead>\n  <tbody>\n    <tr>\n      <th>count</th>\n      <td>428.000000</td>\n      <td>428.000000</td>\n      <td>426.000000</td>\n      <td>428.000000</td>\n      <td>428.000000</td>\n      <td>428.000000</td>\n      <td>428.000000</td>\n      <td>428.000000</td>\n      <td>428.000000</td>\n    </tr>\n    <tr>\n      <th>mean</th>\n      <td>32774.855140</td>\n      <td>3.196729</td>\n      <td>5.807512</td>\n      <td>215.885514</td>\n      <td>20.060748</td>\n      <td>26.843458</td>\n      <td>3577.953271</td>\n      <td>108.154206</td>\n      <td>186.362150</td>\n    </tr>\n    <tr>\n      <th>std</th>\n      <td>19431.716674</td>\n      <td>1.108595</td>\n      <td>1.558443</td>\n      <td>71.836032</td>\n      <td>5.238218</td>\n      <td>5.741201</td>\n      <td>758.983215</td>\n      <td>8.311813</td>\n      <td>14.357991</td>\n    </tr>\n    <tr>\n      <th>min</th>\n      <td>10280.000000</td>\n      <td>1.300000</td>\n      <td>3.000000</td>\n      <td>73.000000</td>\n      <td>10.000000</td>\n      <td>12.000000</td>\n      <td>1850.000000</td>\n      <td>89.000000</td>\n      <td>143.000000</td>\n    </tr>\n    <tr>\n      <th>25%</th>\n      <td>20334.250000</td>\n      <td>2.375000</td>\n      <td>4.000000</td>\n      <td>165.000000</td>\n      <td>17.000000</td>\n      <td>24.000000</td>\n      <td>3104.000000</td>\n      <td>103.000000</td>\n      <td>178.000000</td>\n    </tr>\n    <tr>\n      <th>50%</th>\n      <td>27635.000000</td>\n      <td>3.000000</td>\n      <td>6.000000</td>\n      <td>210.000000</td>\n      <td>19.000000</td>\n      <td>26.000000</td>\n      <td>3474.500000</td>\n      <td>107.000000</td>\n      <td>187.000000</td>\n    </tr>\n    <tr>\n      <th>75%</th>\n      <td>39205.000000</td>\n      <td>3.900000</td>\n      <td>6.000000</td>\n      <td>255.000000</td>\n      <td>21.250000</td>\n      <td>29.000000</td>\n      <td>3977.750000</td>\n      <td>112.000000</td>\n      <td>194.000000</td>\n    </tr>\n    <tr>\n      <th>max</th>\n      <td>192465.000000</td>\n      <td>8.300000</td>\n      <td>12.000000</td>\n      <td>500.000000</td>\n      <td>60.000000</td>\n      <td>66.000000</td>\n      <td>7190.000000</td>\n      <td>144.000000</td>\n      <td>238.000000</td>\n    </tr>\n  </tbody>\n</table>\n</div>"
     },
     "metadata": {},
     "output_type": "execute_result",
     "execution_count": 61
    }
   ],
   "source": [
    "# Performing a 5 number summary\n",
    "df.describe()"
   ],
   "metadata": {
    "collapsed": false,
    "pycharm": {
     "name": "#%%\n",
     "is_executing": false
    }
   }
  },
  {
   "cell_type": "code",
   "execution_count": 67,
   "outputs": [
    {
     "name": "stdout",
     "text": [
      "MSRP           13005.0\n",
      "EngineSize         1.1\n",
      "Cylinders          2.0\n",
      "Horsepower        60.0\n",
      "MPG_City           3.0\n",
      "MPG_Highway        4.0\n",
      "Weight           584.0\n",
      "Wheelbase          8.0\n",
      "Length            15.0\n",
      "dtype: float64\n"
     ],
     "output_type": "stream"
    },
    {
     "data": {
      "text/plain": "<matplotlib.axes._subplots.AxesSubplot at 0x7f93b9523278>"
     },
     "metadata": {},
     "output_type": "execute_result",
     "execution_count": 67
    },
    {
     "data": {
      "text/plain": "<Figure size 432x288 with 1 Axes>",
      "image/png": "[encoded data removed]"
     },
     "metadata": {
      "needs_background": "light"
     },
     "output_type": "display_data"
    }
   ],
   "source": [
    "# Detecting Outliers\n",
    "sns.boxplot(x=df['MSRP'])\n",
    "\n",
    "Q1 = df.quantile(0.25)\n",
    "Q3 = df.quantile(0.75)\n",
    "IQR = Q3 - Q1\n",
    "print(IQR)\n",
    "\n",
    "df = df[~((df < (Q1-1.5 * IQR)) |(df > (Q3 + 1.5 * IQR))).any(axis=1)]\n",
    "\n",
    "sns.boxplot(x=df['MSRP'])\n"
   ],
   "metadata": {
    "collapsed": false,
    "pycharm": {
     "name": "#%%\n",
     "is_executing": false
    }
   }
  }
 ],
 "metadata": {
  "kernelspec": {
   "display_name": "Python 3",
   "language": "python",
   "name": "python3"
  },
  "language_info": {
   "codemirror_mode": {
    "name": "ipython",
    "version": 2
   },
   "file_extension": ".py",
   "mimetype": "text/x-python",
   "name": "python",
   "nbconvert_exporter": "python",
   "pygments_lexer": "ipython2",
   "version": "2.7.6"
  },
  "pycharm": {
   "stem_cell": {
    "cell_type": "raw",
    "source": [],
    "metadata": {
     "collapsed": false
    }
   }
  }
 },
 "nbformat": 4,
 "nbformat_minor": 0
}